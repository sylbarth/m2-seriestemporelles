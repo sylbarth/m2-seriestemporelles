{
 "cells": [
  {
   "cell_type": "code",
   "execution_count": 1,
   "metadata": {},
   "outputs": [
    {
     "name": "stderr",
     "output_type": "stream",
     "text": [
      "[*********************100%***********************]  1 of 1 completed"
     ]
    },
    {
     "name": "stdout",
     "output_type": "stream",
     "text": [
      "                    Open          High           Low         Close  \\\n",
      "Date                                                                 \n",
      "2014-09-17    465.864014    468.174011    452.421997    457.334015   \n",
      "2014-09-18    456.859985    456.859985    413.104004    424.440002   \n",
      "2014-09-19    424.102997    427.834991    384.532013    394.795990   \n",
      "2014-09-20    394.673004    423.295990    389.882996    408.903992   \n",
      "2014-09-21    408.084991    412.425995    393.181000    398.821014   \n",
      "...                  ...           ...           ...           ...   \n",
      "2024-10-11  60275.460938  63400.871094  60046.125000  62445.089844   \n",
      "2024-10-12  62444.617188  63448.785156  62443.269531  63193.023438   \n",
      "2024-10-13  63192.945312  63272.652344  62035.636719  62851.375000   \n",
      "2024-10-14  62848.398438  66482.492188  62442.152344  66046.125000   \n",
      "2024-10-16  67053.132812  67469.257812  66790.921875  67127.500000   \n",
      "\n",
      "               Adj Close       Volume  \n",
      "Date                                   \n",
      "2014-09-17    457.334015     21056800  \n",
      "2014-09-18    424.440002     34483200  \n",
      "2014-09-19    394.795990     37919700  \n",
      "2014-09-20    408.903992     36863600  \n",
      "2014-09-21    398.821014     26580100  \n",
      "...                  ...          ...  \n",
      "2024-10-11  62445.089844  30327141594  \n",
      "2024-10-12  63193.023438  16744110886  \n",
      "2024-10-13  62851.375000  18177529690  \n",
      "2024-10-14  66046.125000  43706958056  \n",
      "2024-10-16  67127.500000  48938582016  \n",
      "\n",
      "[3682 rows x 6 columns]\n"
     ]
    },
    {
     "name": "stderr",
     "output_type": "stream",
     "text": [
      "\n"
     ]
    }
   ],
   "source": [
    "import numpy as np\n",
    "import pandas as pd\n",
    "\n",
    "import datetime \n",
    "import statsmodels as sm\n",
    "\n",
    "import matplotlib.pyplot as plt\n",
    "import seaborn as sns\n",
    "\n",
    "\n",
    "%matplotlib inline\n",
    "\n",
    "import yfinance as yf\n",
    "\n",
    "data = yf.download(\"BTC-USD\")\n",
    "print(data)\n"
   ]
  }
 ],
 "metadata": {
  "kernelspec": {
   "display_name": "Python 3",
   "language": "python",
   "name": "python3"
  },
  "language_info": {
   "codemirror_mode": {
    "name": "ipython",
    "version": 3
   },
   "file_extension": ".py",
   "mimetype": "text/x-python",
   "name": "python",
   "nbconvert_exporter": "python",
   "pygments_lexer": "ipython3",
   "version": "3.11.4"
  }
 },
 "nbformat": 4,
 "nbformat_minor": 2
}
